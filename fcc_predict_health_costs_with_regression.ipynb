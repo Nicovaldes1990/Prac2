{
  "cells": [
    {
      "cell_type": "code",
      "execution_count": null,
      "metadata": {
        "id": "1rRo8oNqZ-Rj"
      },
      "outputs": [],
      "source": [
        "# Import libraries. You may or may not use all of these.\n",
        "!pip install -q git+https://github.com/tensorflow/docs\n",
        "import matplotlib.pyplot as plt\n",
        "import numpy as np\n",
        "import pandas as pd\n",
        "\n",
        "from sklearn.preprocessing import OneHotEncoder, StandardScaler\n",
        "from sklearn.compose import ColumnTransformer\n",
        "from sklearn.pipeline import Pipeline\n",
        "from sklearn.linear_model import LinearRegression\n",
        "from sklearn.model_selection import train_test_split\n",
        "from sklearn.metrics import mean_absolute_error\n",
        "\n",
        "try:\n",
        "  # %tensorflow_version only exists in Colab.\n",
        "  %tensorflow_version 2.x\n",
        "except Exception:\n",
        "  pass\n",
        "import tensorflow as tf\n",
        "\n",
        "from tensorflow import keras\n",
        "from tensorflow.keras import layers\n",
        "\n",
        "import tensorflow_docs as tfdocs\n",
        "import tensorflow_docs.plots\n",
        "import tensorflow_docs.modeling"
      ]
    },
    {
      "cell_type": "code",
      "execution_count": null,
      "metadata": {
        "id": "CiX2FI4gZtTt"
      },
      "outputs": [],
      "source": [
        "# Import data\n",
        "!wget https://cdn.freecodecamp.org/project-data/health-costs/insurance.csv\n",
        "dataset = pd.read_csv('insurance.csv')\n",
        "dataset.tail()"
      ]
    },
    {
      "cell_type": "code",
      "execution_count": null,
      "metadata": {
        "id": "LcopvQh3X-kX"
      },
      "outputs": [],
      "source": [
        "#Mostrar las primeras filas del conjunto de datos para inspección\n",
        "print(dataset.head()) # Change 'data' to 'dataset'"
      ]
    },
    {
      "cell_type": "code",
      "source": [
        "from sklearn.preprocessing import OneHotEncoder # Import OneHotEncoder\n",
        "categorical_features = ['sex', 'smoker', 'region']\n",
        "# Replace 'sparse' with 'sparse_output'\n",
        "encoder = OneHotEncoder(drop='first', sparse_output=False)\n",
        "categorical_data = encoder.fit_transform(dataset[categorical_features]) # Change 'data' to 'dataset'"
      ],
      "metadata": {
        "id": "i1XLR5oFMGWM"
      },
      "execution_count": null,
      "outputs": []
    },
    {
      "cell_type": "code",
      "source": [
        "# Escalar las características numéricas (como 'age', 'bmi', 'children')\n",
        "from sklearn.preprocessing import StandardScaler # Import StandardScaler\n",
        "categorical_features = ['sex', 'smoker', 'region']\n",
        "numerical_features = ['age', 'bmi', 'children']\n",
        "scaler = StandardScaler()\n",
        "numerical_data = scaler.fit_transform(dataset[numerical_features]) # Change 'data' to 'dataset'"
      ],
      "metadata": {
        "id": "2fF4waoTMQiT"
      },
      "execution_count": null,
      "outputs": []
    },
    {
      "cell_type": "code",
      "source": [
        "# Convertir variables categóricas a datos numéricos\n",
        "categorical_columns = ['sex', 'smoker', 'region']\n",
        "dataset = pd.get_dummies(dataset, columns=categorical_columns, drop_first=True)\n"
      ],
      "metadata": {
        "id": "mj6zEOk3Xjo3"
      },
      "execution_count": null,
      "outputs": []
    },
    {
      "cell_type": "code",
      "source": [
        "# Separar las características (X) y la variable objetivo (y)\n",
        "\n",
        "charges_column ='expenses'\n",
        "if charges_column in dataset.columns:\n",
        "    X = dataset.drop(columns=[charges_column], axis=1).values\n",
        "    y = dataset[charges_column].values\n"
      ],
      "metadata": {
        "id": "UG-Ynd28MTuk"
      },
      "execution_count": null,
      "outputs": []
    },
    {
      "cell_type": "code",
      "source": [
        "# Escalado de características\n",
        "scaler = StandardScaler()\n",
        "numerical_features = ['age', 'bmi', 'children']\n",
        "\n",
        "\n",
        "numerical_features_idx = [dataset.columns.get_loc(col) for col in numerical_features if col in dataset.columns]\n",
        "X[:, numerical_features_idx] = scaler.fit_transform(X[:, numerical_features_idx])"
      ],
      "metadata": {
        "id": "AEpUB2XKX5au"
      },
      "execution_count": null,
      "outputs": []
    },
    {
      "cell_type": "code",
      "source": [
        "# Dividir el conjunto de datos en entrenamiento (80%) y prueba (20%)\n",
        "from sklearn.model_selection import train_test_split # Import train_test_split\n",
        "X_train, X_test, y_train, y_test = train_test_split(X, y, test_size=0.2, random_state=42)\n",
        "\n",
        "\n",
        "X_train = X_train.astype(np.float32)\n",
        "X_test = X_test.astype(np.float32)\n",
        "\n",
        "train_dataset = tf.data.Dataset.from_tensor_slices((X_train, y_train)).batch(32)\n",
        "train_labels = y_train\n",
        "\n",
        "test_dataset = tf.data.Dataset.from_tensor_slices(X_test).batch(32)\n",
        "test_labels = y_test"
      ],
      "metadata": {
        "id": "4im4CKR3Tcoc"
      },
      "execution_count": null,
      "outputs": []
    },
    {
      "cell_type": "code",
      "source": [
        "model = keras.Sequential([\n",
        "    layers.Dense(64, activation='relu', input_shape=(X_train.shape[1],)),\n",
        "    layers.Dense(64, activation='relu'),\n",
        "    layers.Dense(1)\n",
        "  ])\n",
        "model.compile(optimizer='adam', loss='mse', metrics=['mae', 'mse'])\n",
        "\n",
        "history = model.fit(X_train, y_train, epochs=100, validation_split=0.2, verbose=1)"
      ],
      "metadata": {
        "id": "PGCS5YxAMXKn"
      },
      "execution_count": null,
      "outputs": []
    },
    {
      "cell_type": "code",
      "source": [
        "X_train, X_val, y_train, y_val = train_test_split(X_train, y_train, test_size=0.2, random_state=42)\n",
        "\n",
        "\n",
        "train_dataset = tf.data.Dataset.from_tensor_slices((X_train, y_train)).batch(32)\n",
        "val_dataset = tf.data.Dataset.from_tensor_slices((X_val, y_val)).batch(32)\n",
        "\n",
        "\n",
        "model.fit(train_dataset, epochs=100, validation_data=val_dataset, verbose=0)\n",
        "test_dataset = tf.data.Dataset.from_tensor_slices((X_test, y_test)).batch(32)"
      ],
      "metadata": {
        "id": "iD3IzcQSdgLh"
      },
      "execution_count": null,
      "outputs": []
    },
    {
      "cell_type": "code",
      "execution_count": null,
      "metadata": {
        "id": "Xe7RXH3N3CWU"
      },
      "outputs": [],
      "source": [
        "# RUN THIS CELL TO TEST YOUR MODEL. DO NOT MODIFY CONTENTS.\n",
        "# Test model by checking how well the model generalizes using the test set.\n",
        "loss, mae, mse = model.evaluate(test_dataset, verbose=2)\n",
        "\n",
        "print(\"Testing set Mean Abs Error: {:5.2f} expenses\".format(mae))\n",
        "\n",
        "if mae < 3500:\n",
        "  print(\"You passed the challenge. Great job!\")\n",
        "else:\n",
        "  print(\"The Mean Abs Error must be less than 3500. Keep trying.\")\n",
        "\n",
        "# Plot predictions.\n",
        "test_predictions = model.predict(test_dataset).flatten()\n",
        "\n",
        "a = plt.axes(aspect='equal')\n",
        "plt.scatter(test_labels, test_predictions)\n",
        "plt.xlabel('True values (expenses)')\n",
        "plt.ylabel('Predictions (expenses)')\n",
        "lims = [0, 50000]\n",
        "plt.xlim(lims)\n",
        "plt.ylim(lims)\n",
        "_ = plt.plot(lims,lims)\n"
      ]
    }
  ],
  "metadata": {
    "colab": {
      "name": "fcc_predict_health_costs_with_regression.ipynb",
      "private_outputs": true,
      "provenance": [],
      "toc_visible": true
    },
    "kernelspec": {
      "display_name": "Python 3",
      "name": "python3"
    }
  },
  "nbformat": 4,
  "nbformat_minor": 0
}